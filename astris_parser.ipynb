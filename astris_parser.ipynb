{
 "metadata": {
  "language_info": {
   "codemirror_mode": {
    "name": "ipython",
    "version": 3
   },
   "file_extension": ".py",
   "mimetype": "text/x-python",
   "name": "python",
   "nbconvert_exporter": "python",
   "pygments_lexer": "ipython3",
   "version": 3
  },
  "orig_nbformat": 4
 },
 "nbformat": 4,
 "nbformat_minor": 2,
 "cells": [
  {
   "cell_type": "code",
   "execution_count": null,
   "metadata": {},
   "outputs": [],
   "source": [
    "from numpy import uint8,int16,uint16\n",
    "from find_sync_bytes import FindSyncBytes\n",
    "from logger import Logger\n",
    "\n",
    "\n",
    "class AstrisParser:\n",
    "    def __init__(self,astris_packet):\n",
    "        self.astris_packet = astris_packet\n",
    "        self.log = Logger().create_log()\n",
    "        self.expected_packet_length = 252\n",
    "    def parse_packet():\n",
    "        if not self.is_va"
   ]
  }
 ]
}